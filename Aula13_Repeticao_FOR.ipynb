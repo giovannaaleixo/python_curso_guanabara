{
  "nbformat": 4,
  "nbformat_minor": 0,
  "metadata": {
    "colab": {
      "provenance": [],
      "authorship_tag": "ABX9TyPA7pHPuPoLNcpILvbB/VXG",
      "include_colab_link": true
    },
    "kernelspec": {
      "name": "python3",
      "display_name": "Python 3"
    },
    "language_info": {
      "name": "python"
    }
  },
  "cells": [
    {
      "cell_type": "markdown",
      "metadata": {
        "id": "view-in-github",
        "colab_type": "text"
      },
      "source": [
        "<a href=\"https://colab.research.google.com/github/giovannaaleixo/python_curso_guanabara/blob/main/Aula13_Repeticao_FOR.ipynb\" target=\"_parent\"><img src=\"https://colab.research.google.com/assets/colab-badge.svg\" alt=\"Open In Colab\"/></a>"
      ]
    },
    {
      "cell_type": "markdown",
      "source": [
        "#**Aula 13 - Estruturas de Repetição**\n",
        "\n",
        "Vamos começar nossos estudos com os **laços** e vamos fazer primeiro o “for”, que é uma estrutura versátil e simples de entender."
      ],
      "metadata": {
        "id": "N3qVLhcBA4yv"
      }
    },
    {
      "cell_type": "code",
      "execution_count": null,
      "metadata": {
        "id": "ppAKURUSAzv1"
      },
      "outputs": [],
      "source": [
        "for c in range(1,10):"
      ]
    },
    {
      "cell_type": "code",
      "source": [
        "n = int(input('Digite um numero: '))\n",
        "for c in range(0, n+1):\n",
        "  print(c)\n",
        "print('Fim')"
      ],
      "metadata": {
        "id": "OQHrvlNavJj2"
      },
      "execution_count": null,
      "outputs": []
    },
    {
      "cell_type": "code",
      "source": [
        "i = int(input('Inicio: '))\n",
        "f = int(input('Fim: '))\n",
        "p = int(input('Passo: '))\n",
        "for x in range(i,f+1,p):\n",
        "  print(x)\n",
        "print('Fim')"
      ],
      "metadata": {
        "id": "afTX3Khrvn8V"
      },
      "execution_count": null,
      "outputs": []
    },
    {
      "cell_type": "code",
      "source": [
        "s = 0\n",
        "for c in range(0,4):\n",
        "  num = int(input('Digite um numero: '))\n",
        "  s += num # s = s + num\n",
        "print('O somatório dos numeros é: {}'.format(s))"
      ],
      "metadata": {
        "id": "wZqAFJKewqc-"
      },
      "execution_count": null,
      "outputs": []
    },
    {
      "cell_type": "markdown",
      "source": [
        "46) Faça um programa que mostre na tela uma contagem regressiva para o estouro de fogos de artificio, indo de 10 até 0, com uma pausa de 1 s entre elas."
      ],
      "metadata": {
        "id": "qgUQqQxr0uD6"
      }
    },
    {
      "cell_type": "code",
      "source": [
        "from time import sleep\n",
        "for reg in range(10,-1,-1):\n",
        "  print(reg)\n",
        "  sleep(1)\n",
        "print('FIM!!')"
      ],
      "metadata": {
        "id": "uk31qpWq1BCE"
      },
      "execution_count": null,
      "outputs": []
    },
    {
      "cell_type": "markdown",
      "source": [
        "47) Crie um programa que mostre na tela todos os numeros pares que estão no intervalo entre 1 e 50."
      ],
      "metadata": {
        "id": "PXOWQem21Bdv"
      }
    },
    {
      "cell_type": "code",
      "source": [
        "for i in range(1,51):\n",
        "#for i in range(2,51,2):\n",
        "  if i % 2 == 0:\n",
        "    print(i)\n",
        "print('fim')"
      ],
      "metadata": {
        "id": "qwCyk1qq1w5a"
      },
      "execution_count": null,
      "outputs": []
    },
    {
      "cell_type": "markdown",
      "source": [
        "48) Faça um programa que calcule a soma entre todos os numeros impares que são multiplos de três e se encontram no intervalo de 1 até 500."
      ],
      "metadata": {
        "id": "QjMdmau-2h_c"
      }
    },
    {
      "cell_type": "code",
      "source": [
        "soma = 0\n",
        "for ii in range(1,501,2):\n",
        "  if ii % 3 == 0:\n",
        "    soma += ii\n",
        "    #print(ii)\n",
        "print('A soma dos numeros são: {}'.format(soma))\n"
      ],
      "metadata": {
        "id": "C_Sv_yvI3ni5"
      },
      "execution_count": null,
      "outputs": []
    },
    {
      "cell_type": "markdown",
      "source": [
        "**49)** Refaça o desafio 09, mostrando a tabuada de um numero que o usuário escolher, só que agora utilizando um laço for."
      ],
      "metadata": {
        "id": "W6K018dU4yUi"
      }
    },
    {
      "cell_type": "code",
      "source": [
        "t = int(input('Digite um numero para ver sua tabuada: '))\n",
        "for tab in range(1,11):\n",
        "  print('{} x {} = {}'.format(t,tab,(t*tab)))\n"
      ],
      "metadata": {
        "id": "c4bob81y5L17"
      },
      "execution_count": null,
      "outputs": []
    },
    {
      "cell_type": "markdown",
      "source": [
        "50) Desenvolva um programa que leia seis numeros inteiros e mostre a soma apenas daqueles que forem pares. Se o valor digitado por impar desconsidere-o."
      ],
      "metadata": {
        "id": "qW4Lrzia5M5X"
      }
    },
    {
      "cell_type": "code",
      "source": [
        "adicao = 0\n",
        "for par in range(1,7):\n",
        "  a = int(input('Digite o {} numero: '.format(par)))\n",
        "  if a % 2 == 0:\n",
        "    adicao += a\n",
        "print('A soma dos numeros pares é: {}'.format(adicao))\n"
      ],
      "metadata": {
        "id": "wSNKuD8z5tn9",
        "colab": {
          "base_uri": "https://localhost:8080/"
        },
        "outputId": "c46aa11a-4dbb-402c-ba9b-3001b442b9ba"
      },
      "execution_count": null,
      "outputs": [
        {
          "output_type": "stream",
          "name": "stdout",
          "text": [
            "Digite o 1 numero: 1\n",
            "Digite o 2 numero: 3\n",
            "Digite o 3 numero: 5\n",
            "Digite o 4 numero: 7\n",
            "Digite o 5 numero: 2\n",
            "Digite o 6 numero: 1\n",
            "A soma dos numeros pares é: 2\n"
          ]
        }
      ]
    },
    {
      "cell_type": "markdown",
      "source": [
        "**51)** Desenvolva um programa que leia o primeiro termo e a razão de uma PA. No final mostre os 10 primeiros termos dessa progressão."
      ],
      "metadata": {
        "id": "OYJ3sxeE5uL5"
      }
    },
    {
      "cell_type": "code",
      "source": [
        "termo1 = int(input('Digite o primeiro termo: '))\n",
        "razao = int(input('Razão: '))\n",
        "decimo = termo1 + (10-1) * razao\n",
        "for pa in range(termo1,decimo + razao,razao):\n",
        "  print('{}'.format(pa),end = ' --> ')\n",
        "print('ACABOU')  "
      ],
      "metadata": {
        "id": "UjdlTxxI6JWn",
        "colab": {
          "base_uri": "https://localhost:8080/"
        },
        "outputId": "415cc82a-fe6f-4b45-ba25-8a933c33912a"
      },
      "execution_count": null,
      "outputs": [
        {
          "output_type": "stream",
          "name": "stdout",
          "text": [
            "Digite o primeiro termo: 25\n",
            "Razão: 5\n",
            "25 --> 30 --> 35 --> 40 --> 45 --> 50 --> 55 --> 60 --> 65 --> 70 --> ACABOU\n"
          ]
        }
      ]
    },
    {
      "cell_type": "markdown",
      "source": [
        "52) Faça um programa que leia um numero inteiro e diga se ele é ou não um numero primo."
      ],
      "metadata": {
        "id": "vc-ANaD96Jwl"
      }
    },
    {
      "cell_type": "code",
      "source": [
        "tot = 0\n",
        "num2 = int(input('Digite um numero: '))\n",
        "for primo in range(1, num2 + 1):\n",
        "  if num2 % primo == 0:\n",
        "    tot += 1\n",
        "print('O numero {} foi divisível por {} vezes'.format(primo, tot))\n",
        "if tot == 2:\n",
        "  print('O numero {} é Primo'.format(num2))\n",
        "else:\n",
        "  print('O numero {} Não é primo'.format(num2))\n"
      ],
      "metadata": {
        "id": "sxVbLMZQ6amk",
        "colab": {
          "base_uri": "https://localhost:8080/"
        },
        "outputId": "3f0cf83f-4a0b-499e-bda3-09bb3ba30d74"
      },
      "execution_count": null,
      "outputs": [
        {
          "output_type": "stream",
          "name": "stdout",
          "text": [
            "Digite um numero: 8\n",
            "O numero 8 foi divisível por 4 vezes\n",
            "O numero 8 Não é primo\n"
          ]
        }
      ]
    },
    {
      "cell_type": "markdown",
      "source": [
        "**53)** Crie um programa que leia uma frase qualquer e diga se ela pe um palindromo, desconsiderando os espaços.\n",
        "Ex: apos a sopa"
      ],
      "metadata": {
        "id": "prfwWTi66bxa"
      }
    },
    {
      "cell_type": "code",
      "source": [
        "frase = str(input('Digite uma frase: ')).strip().upper()\n",
        "palavras1 = frase.split()\n",
        "junto = ''.join(palavras1)\n",
        "inverso = ''\n",
        "for letra in range(len(junto)-1,-1,-1):\n",
        "  inverso += junto[letra]\n",
        "print('O inverso de {} é {}'.format(junto,inverso))\n",
        "if inverso == junto:\n",
        "  print('Temos um palíndromo')\n",
        "else:\n",
        "  print('A frase não é palíndromo')"
      ],
      "metadata": {
        "id": "DK9x0GpB6340",
        "colab": {
          "base_uri": "https://localhost:8080/"
        },
        "outputId": "fe9b0da3-95ba-4355-97f2-ebeff267644f"
      },
      "execution_count": null,
      "outputs": [
        {
          "output_type": "stream",
          "name": "stdout",
          "text": [
            "Digite uma frase: giovanna\n",
            "O inverso de GIOVANNA é ANNAVOIG\n",
            "A frase não é palíndromo\n"
          ]
        }
      ]
    },
    {
      "cell_type": "code",
      "source": [
        "#O mesmo exercício acima, mas sem utilizar FOR e sim slice 'fatiamento'\n",
        "frase2 = str(input('Digite uma frase: ')).strip().upper()\n",
        "palavras2 = frase2.split()\n",
        "junto2 = ''.join(palavras2)\n",
        "inverso2 = junto2[::-1]\n",
        "print('O inverso de {} é {}'.format(junto2,inverso2))\n",
        "if inverso2 == junto2:\n",
        "  print('Temos um palíndromo')\n",
        "else:\n",
        "  print('A frase não é palíndromo')"
      ],
      "metadata": {
        "colab": {
          "base_uri": "https://localhost:8080/"
        },
        "id": "BDbnZiN2q7tg",
        "outputId": "f3036619-af72-4123-abc0-321c3ef09844"
      },
      "execution_count": null,
      "outputs": [
        {
          "output_type": "stream",
          "name": "stdout",
          "text": [
            "Digite uma frase: ana\n",
            "O inverso de ANA é ANA\n",
            "Temos um palíndromo\n"
          ]
        }
      ]
    },
    {
      "cell_type": "markdown",
      "source": [
        "**54)** Crie um programa que leia o ano de nascimento de 7 pessoas. No final mostre quantas pessoas ainda não atingiram a maior idade e quantas já são maiores."
      ],
      "metadata": {
        "id": "1VohpCbb64-U"
      }
    },
    {
      "cell_type": "code",
      "source": [
        "from datetime import date\n",
        "ano_hoje = date.today().year\n",
        "menor = 0\n",
        "maior = 0\n",
        "for age in range(1,8):\n",
        "  ano = int(input('Em que ano a {} pessoa nasceu: '.format(age)))\n",
        "  nascimento = ano_hoje - ano\n",
        "  if nascimento <= 21:\n",
        "    menor +=1\n",
        "  elif nascimento >= 21:\n",
        "    maior +=1\n",
        "print('Quantidade de menores de idade: {}'.format(menor))\n",
        "print('Quantidade de maiores de idade: {}'.format(maior))"
      ],
      "metadata": {
        "id": "Dw6KBqSg7bFJ",
        "colab": {
          "base_uri": "https://localhost:8080/"
        },
        "outputId": "94adae29-24d2-4f95-a1a2-9670dde4c5b5"
      },
      "execution_count": null,
      "outputs": [
        {
          "output_type": "stream",
          "name": "stdout",
          "text": [
            "Em que ano a 1 pessoa nasceu: 2000\n",
            "Em que ano a 2 pessoa nasceu: 1970\n",
            "Em que ano a 3 pessoa nasceu: 2005\n",
            "Em que ano a 4 pessoa nasceu: 1990\n",
            "Em que ano a 5 pessoa nasceu: 2010\n",
            "Em que ano a 6 pessoa nasceu: 1960\n",
            "Em que ano a 7 pessoa nasceu: 1940\n",
            "Quantidade de menores de idade: 2\n",
            "Quantidade de maiores de idade: 5\n"
          ]
        }
      ]
    },
    {
      "cell_type": "markdown",
      "source": [
        "**55)** Faça um programa que leia o peso de 5 pessoas. No final, mostre qual foi o maior e o menor peso lidos."
      ],
      "metadata": {
        "id": "wE8nTbnS7bey"
      }
    },
    {
      "cell_type": "code",
      "source": [
        "maior_peso = 0\n",
        "menor_peso = 0\n",
        "for p in range(1,6):\n",
        "  peso = float(input('Digite o peso da {} em Kg: '.format(p)))\n",
        "  if p == 1:\n",
        "    maior_peso = peso\n",
        "    menor_peso = peso\n",
        "  else:\n",
        "    if peso > maior_peso:\n",
        "      maior_peso = peso\n",
        "    if peso < menor_peso:\n",
        "      menor_peso = peso\n",
        "print('O maior peso foi {}Kg'.format(maior_peso))\n",
        "print('O menor peso foi {}Kg'.format(menor_peso))\n",
        "  "
      ],
      "metadata": {
        "id": "RQ2l49hG7oTX",
        "colab": {
          "base_uri": "https://localhost:8080/"
        },
        "outputId": "e9e5c8f8-5dd9-4ac0-b031-8e8494b90597"
      },
      "execution_count": null,
      "outputs": [
        {
          "output_type": "stream",
          "name": "stdout",
          "text": [
            "Digite o peso da 1 em Kg: 78\n",
            "Digite o peso da 2 em Kg: 41\n",
            "Digite o peso da 3 em Kg: 98\n",
            "Digite o peso da 4 em Kg: 56\n",
            "Digite o peso da 5 em Kg: 73.4\n",
            "O maior peso foi 98.0Kg\n",
            "O menor peso foi 41.0Kg\n"
          ]
        }
      ]
    },
    {
      "cell_type": "markdown",
      "source": [
        "**56)** Desenvolva um programa que leia o nome, idade e sexo de 4 pessoas. No final do programa mostre:\n",
        "* A média da idade do grupo\n",
        "* qual é o nome do homem mais velho\n",
        "* quantas mulheres têm menos de 20 anos."
      ],
      "metadata": {
        "id": "X6_xnu4h7vfc"
      }
    },
    {
      "cell_type": "code",
      "source": [
        "s_idade = 0\n",
        "avg_idade = 0\n",
        "maior_idadehomem = 0\n",
        "nome_velho = ''\n",
        "mulher20 = 0\n",
        "for x1 in range(1,5):\n",
        "  print('---- {} Pessoa -----'.format(x1))\n",
        "  nome2 = str(input('Digite seu nome: ')).strip()\n",
        "  idade2 = int(input('Digite sua idade: '))\n",
        "  genero = str(input('Sexo: Digite [F/M]: ')).strip().lower()\n",
        "  if x1 == 1 and genero == 'Mm':\n",
        "    maior_idadehomem = idade2\n",
        "    nome_velho = nome2\n",
        "  if genero in 'Mm' and idade2 > maior_idadehomem:\n",
        "    maior_idadehomem = idade2\n",
        "    nome_velho = nome2\n",
        "  if genero in 'Ff' and idade2 < 20:\n",
        "    mulher20 += 1\n",
        "\n",
        "  s_idade += idade2\n",
        "  avg_idade = (s_idade/4)\n",
        "print('A media de idade do grupo é: {}'.format(avg_idade))\n",
        "print('O homem mais velho tem {} anos e se chama {}'.format(maior_idadehomem,nome_velho))\n",
        "print('Ao todo são {} mulheres abaixo de 20 anos.'.format(mulher20))\n",
        "  "
      ],
      "metadata": {
        "colab": {
          "base_uri": "https://localhost:8080/"
        },
        "id": "d2966Klzjx0u",
        "outputId": "d4fa26ef-c5a9-4339-f0ff-2fbee7702ff4"
      },
      "execution_count": null,
      "outputs": [
        {
          "output_type": "stream",
          "name": "stdout",
          "text": [
            "---- 1 Pessoa -----\n",
            "Digite seu nome: Jéssica\n",
            "Digite sua idade: 23\n",
            "Sexo: Digite [F/M]: f\n",
            "---- 2 Pessoa -----\n",
            "Digite seu nome: João\n",
            "Digite sua idade: 12\n",
            "Sexo: Digite [F/M]: m\n",
            "---- 3 Pessoa -----\n",
            "Digite seu nome: Cláudio\n",
            "Digite sua idade: 75\n",
            "Sexo: Digite [F/M]: m\n",
            "---- 4 Pessoa -----\n",
            "Digite seu nome: Maria\n",
            "Digite sua idade: 15\n",
            "Sexo: Digite [F/M]: f\n",
            "A media de idade do grupo é: 31.25\n",
            "O homem mais velho tem 75 anos e se chama Cláudio\n",
            "Ao todo são 1 mulheres abaixo de 20 anos.\n"
          ]
        }
      ]
    }
  ]
}