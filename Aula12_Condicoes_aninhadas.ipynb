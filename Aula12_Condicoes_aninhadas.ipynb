{
  "nbformat": 4,
  "nbformat_minor": 0,
  "metadata": {
    "colab": {
      "provenance": [],
      "authorship_tag": "ABX9TyOPkY3fWe6SyQyPeJONc0Zv",
      "include_colab_link": true
    },
    "kernelspec": {
      "name": "python3",
      "display_name": "Python 3"
    },
    "language_info": {
      "name": "python"
    }
  },
  "cells": [
    {
      "cell_type": "markdown",
      "metadata": {
        "id": "view-in-github",
        "colab_type": "text"
      },
      "source": [
        "<a href=\"https://colab.research.google.com/github/giovannaaleixo/python_curso_guanabara/blob/main/Aula12_Condicoes_aninhadas.ipynb\" target=\"_parent\"><img src=\"https://colab.research.google.com/assets/colab-badge.svg\" alt=\"Open In Colab\"/></a>"
      ]
    },
    {
      "cell_type": "markdown",
      "source": [
        "#Condições Aninhadas\n",
        "Vamos aprender como criar estruturas condicionais aninhadas, usando os comandos if.. elif.. else"
      ],
      "metadata": {
        "id": "XLN5GMX1FiwN"
      }
    },
    {
      "cell_type": "code",
      "source": [
        "nome = str(input('Digite seu nome: '))\n",
        "if nome == 'Giovanna':\n",
        "  print('Seu nome é muito bonito {}!'.format(nome))\n",
        "elif nome == 'Matheus' or nome == 'Antonio' or nome == 'Juliana':\n",
        "  print('Seu nome é bem popular no Brasil.')\n",
        "else: #else se torna opcional \n",
        "  print('Seu nome é bem normal.')\n",
        "\n",
        "print('Tenha um bom dia, {}!'.format(nome))"
      ],
      "metadata": {
        "id": "QK_NUQdZG0Kf"
      },
      "execution_count": null,
      "outputs": []
    },
    {
      "cell_type": "markdown",
      "source": [
        "36) Escreva um programa para aprovar o empréstimo bancário para a compra de uma casa. O programa vai perguntar o valor da casa, o salário do comprador e em quantos anos ele vai pagar. Calcule o valor da prestação mensal, sabendo que ela não pode exceder 30% do salário ou então o empréstimo será negado."
      ],
      "metadata": {
        "id": "joUIWjh0NJ3T"
      }
    },
    {
      "cell_type": "code",
      "source": [
        "salario = float(input('Digite o valor do seu salário em Reais R$: '))\n",
        "casa_valor = float(input('Qual o valor de compra da casa R$? '))\n",
        "anos_casa = int(input('Em quantos anos a casa será paga? '))\n",
        "\n",
        "#parcela = salario * 0.3\n",
        "#meses = anos * 12\n",
        "if (casa_valor / (anos_casa * 12)) > (salario * 0.3):\n",
        "  parcela = casa_valor / (anos_casa * 12)\n",
        "  print('\\nO seu empréstimo está negado, valor da parcela é de R${:.2f} e excede 30% do seu salario!'.format(parcela))\n",
        "else:\n",
        "  parcela = casa_valor / (anos_casa * 12)\n",
        "  print('\\nEmpréstimo Aprovado! O valor da prestação será de R${:.2f}'.format(parcela))"
      ],
      "metadata": {
        "id": "kRbvTE2vOdMZ"
      },
      "execution_count": null,
      "outputs": []
    },
    {
      "cell_type": "markdown",
      "source": [
        "37) Escreva um programa que leia um número inteiro qualquer e peça para o usuário escolher qual será a base de conversão:\n",
        "1 para binário\n",
        "2 para octal\n",
        "3 para hexadecimal"
      ],
      "metadata": {
        "id": "AQNIoLeWOduU"
      }
    },
    {
      "cell_type": "code",
      "source": [
        "numero = int(input('Digite um numero inteiro: '))\n",
        "print('''Escolha uma das bases para conversão:\n",
        "[1] converter para Binário\n",
        "[2] converter para Octal\n",
        "[3] converter para Hexadecimal''')\n",
        "escolha = int(input('Digite a opção desejada: '))\n",
        "\n",
        "if escolha == 1:\n",
        "  print('O numero {} convertido para Binário é {}'.format(numero, bin(numero)[2:]))\n",
        "elif escolha == 2:\n",
        "  print('O numero {} convertido para Octal é {}'.format(numero, oct(numero)[2:]))\n",
        "elif escolha == 3:\n",
        "  print('O numero {} convertido para Hexadecimal é {}'.format(numero, hex(numero)[2:]))\n",
        "else:\n",
        "  print('Opção inválida, tente novamente.')"
      ],
      "metadata": {
        "id": "j2HwAnd3O3vD"
      },
      "execution_count": null,
      "outputs": []
    },
    {
      "cell_type": "markdown",
      "source": [
        "38)Escreva um programa que leia dois números inteiros e compare-os mostrando na tela uma mensagem:\n",
        "- O primeiro valor é maior.\n",
        "- O segundo valor é maior.\n",
        "- Não existe valor maior, os dois são iguais."
      ],
      "metadata": {
        "id": "wJpU33QXO6QP"
      }
    },
    {
      "cell_type": "code",
      "source": [
        "num1 = int(input('Digite um numero inteiro: '))\n",
        "num2 = int(input('Digite um segundo numero inteiro: '))\n",
        "\n",
        "if num1 > num2:\n",
        "  print('O primeiro numero é maior.')\n",
        "elif num1 == num2:\n",
        "  print('Os dois numeros são iguais!')\n",
        "else:\n",
        "  print('O segundo numero é o maior.')"
      ],
      "metadata": {
        "id": "8FqvPT4iPjTc"
      },
      "execution_count": null,
      "outputs": []
    },
    {
      "cell_type": "markdown",
      "source": [
        "39) Faça um programa que leia o anos de nascimento de um jovem e informe de acordo com sua idade:\n",
        "- se ele ainda vai se alistar ao serviço militar.\n",
        "- se é a hora de se alistar.\n",
        "- se já passou do tempo de alistamento.\n",
        "Seu programa também deverá mostrar o tempo que falta ou que passou do prazo."
      ],
      "metadata": {
        "id": "pk8isWUgPlyi"
      }
    },
    {
      "cell_type": "code",
      "source": [
        "from datetime import date \n",
        "nascimento = int(input('Digite seu ano de nascimento: '))\n",
        "idade = date.today().year - nascimento\n",
        "\n",
        "if idade < 18:\n",
        "  print('Vc tem {} anos. Vc ainda irá se alistar! Falta {} anos para voce se alistar.'.format(idade, 18 - idade))\n",
        "elif idade == 18:\n",
        "  print('Vc tem {} anos. É hora de se alistar!'.format(idade))\n",
        "else:\n",
        "  print('Vc está com {} anos. Vc já passou do alistamento, vc já passou {} anos de se alistar.'.format(idade, idade - 18))"
      ],
      "metadata": {
        "id": "typmRUe7QO60"
      },
      "execution_count": null,
      "outputs": []
    },
    {
      "cell_type": "markdown",
      "source": [
        "40) Crie um programa que leia duas notas de um aluno e calcule sua média, mostrando uma mensagem no final, de acordo com a média atingida.\n",
        "- média abaixo de 5.0: reprovado\n",
        "- média entre 5.0 e 6.9: recuperação\n",
        "- média 7.0 ou superior: aprovado"
      ],
      "metadata": {
        "id": "3wPWDCyiQPZL"
      }
    },
    {
      "cell_type": "code",
      "source": [
        "nota1 = float(input('Digite a primeira nota: '))\n",
        "nota2 = float(input('Digite a segunda nota: '))\n",
        "average = (nota1 + nota2)/2\n",
        "if average >= 7.0:\n",
        "  print('Aluno Aprovado! Parabéns sua média foi de {:.1f}'.format(average))\n",
        "elif average >= 5.0 and average <= 6.9: # 7 > média >= 5\n",
        "  print('Aluno em Recuperação! Sua nota foi de {:.1f}'.format(average))\n",
        "else:\n",
        "  print('Aluno Reprovado! Sua média foi de {:.1f} Estude mais!'.format(average))"
      ],
      "metadata": {
        "id": "ZI1TRI0DQ6bC"
      },
      "execution_count": null,
      "outputs": []
    },
    {
      "cell_type": "markdown",
      "source": [
        "41) A confederação nacional de natação precisa de um programa que leia o ano de nascimento de um atleta e mostre sua categoria, de acordo com a idade:\n",
        "- até 9 anos: mirim\n",
        "- até 14 anos: infantil\n",
        "- até 19 anos: junior\n",
        "- até 20 anos: sênior\n",
        "- acima: master"
      ],
      "metadata": {
        "id": "B9dAhRoqRENK"
      }
    },
    {
      "cell_type": "code",
      "source": [
        "from datetime import date\n",
        "ano_nascimento = int(input('Digite seu ano de nascimento: '))\n",
        "idade = date.today().year - ano_nascimento\n",
        "if idade <= 9:\n",
        "  print('Sua categoria é Mirim.')\n",
        "elif idade <= 14:\n",
        "  print('Sua categoria é Infantil.')\n",
        "elif idade <= 19:\n",
        "  print('Sua categoria é Junior.')\n",
        "elif idade <= 25:\n",
        "  print('Sua categoria é Senior.')\n",
        "else:\n",
        "  print('Sua categoria é Master.')\n"
      ],
      "metadata": {
        "id": "kVPjYZMBRi2t"
      },
      "execution_count": null,
      "outputs": []
    },
    {
      "cell_type": "markdown",
      "source": [
        "42) Refaça o desafio 35 do python mundo 1. \n",
        "Equilátero: todos os lados iguais.\n",
        "Isósceles: dois lados iguais.\n",
        "Escaleno: todos os lados diferentes."
      ],
      "metadata": {
        "id": "Kv5ZuROrRjOw"
      }
    },
    {
      "cell_type": "code",
      "source": [
        "l1 = float(input('Digite a primeira medida: '))\n",
        "l2 = float(input('Digite a segunda medida: '))\n",
        "l3 = float(input('Digite a terceira medida: '))\n",
        "\n",
        "if l1 < l2 + l3 and l2 < l1 + l3 and l3 < l1 + l2:\n",
        "  print('Os segmentos formam um triângulo! ', end='')\n",
        "  if l1 == l2 == l3:\n",
        "    print('Equilátero.')\n",
        "  elif l1 != l2 != l3 != l1:\n",
        "    print('Escaleno.')\n",
        "  else:\n",
        "    print('Isósceles.')   \n",
        "else:\n",
        "  print('Os seguimentos NÃO formam um triângulo!') "
      ],
      "metadata": {
        "colab": {
          "base_uri": "https://localhost:8080/"
        },
        "id": "TOOgynLpoleT",
        "outputId": "5e9213c9-8a7c-4ea7-f46a-2c31f72156ab"
      },
      "execution_count": null,
      "outputs": [
        {
          "output_type": "stream",
          "name": "stdout",
          "text": [
            "Digite a primeira medida: 5\n",
            "Digite a segunda medida: 5\n",
            "Digite a terceira medida: 5\n",
            "Os segmentos formam um triângulo! Equilátero.\n"
          ]
        }
      ]
    },
    {
      "cell_type": "markdown",
      "source": [
        "43) Desenvolva uma lógica que leia o peso e a altura de uma pessoa, calcule seu IMC e mostre seu status, de acordo com a tabela abaixo:\n",
        "- abaixo de 18.5: abaixo do peso.\n",
        "- entre 18.5 até 25: peso ideal.\n",
        "- 25 até 30: sobrepeso\n",
        "- 30 até 40: obesidade\n",
        "- acima de 40: obesidade mórbida"
      ],
      "metadata": {
        "id": "BYb-dP1jSOtE"
      }
    },
    {
      "cell_type": "code",
      "source": [
        "peso = float(input('Digite seu peso Kg: '))\n",
        "altura = float(input('Digite sua altura em metros: '))\n",
        "imc = peso/ (altura ** 2)\n",
        "if imc < 18.5:\n",
        "  print('Seu IMC é de {:.1f} Você está abaixo do peso!'.format(imc))\n",
        "elif imc >= 18.5 and imc < 25:\n",
        "  print('Seu IMC é de {:.1f} Você está no peso ideal!'.format(imc))\n",
        "elif imc >= 25 and imc < 30:\n",
        "  print('Seu IMC é de {:.1f} Você está com sobrepeso!'.format(imc))\n",
        "elif imc >= 30 and imc < 40:\n",
        "  print('Seu IMC é de {:.1f} Você está com obesidade!'.format(imc))\n",
        "else:\n",
        "  print('Seu IMC é de {:.1f} Você está com obesidade mórbida!'.format(imc))"
      ],
      "metadata": {
        "id": "DrA_L_L9TBji",
        "colab": {
          "base_uri": "https://localhost:8080/"
        },
        "outputId": "b78cc423-552c-4735-877f-d4691796713c"
      },
      "execution_count": null,
      "outputs": [
        {
          "output_type": "stream",
          "name": "stdout",
          "text": [
            "Digite seu peso Kg: 97\n",
            "Digite sua altura em metros: 1.96\n",
            "Seu IMC é de 25.2 Você está com sobrepeso!\n"
          ]
        }
      ]
    },
    {
      "cell_type": "markdown",
      "source": [
        "**44)** Elabore um programa que calcule o valor a ser pago por um produto considerando o seu preço normal e condição de pagamento.\n",
        "- à vista dinheiro: 10% de desconto\n",
        "- à vista no cartão: 5% de desconto.\n",
        "- em até 2x no cartão: preço normal.\n",
        "- 3x ou mais no cartão: 20% de juros."
      ],
      "metadata": {
        "id": "9B_GUPd5TCEL"
      }
    },
    {
      "cell_type": "code",
      "source": [
        "valor = float(input('Digite o valor do produto R$: '))\n",
        "print('''Escolha a opção de pagamento:\n",
        "[1] - à vista dinheiro: 10% de desconto\n",
        "[2] - à vista no cartão: 5% de desconto\n",
        "[3] - 2x no cartão: preço normal\n",
        "[4] - 3x ou mais no cartão: 20% de juros''')\n",
        "meio_pagamento = int(input('\\nDigite a opção desejada: '))\n",
        "\n",
        "if meio_pagamento == 1:\n",
        "  produto = valor - (valor * 0.1)\n",
        "  print('O valor a ser pago pelo produto será de R${:.2f}'.format(produto))\n",
        "elif meio_pagamento == 2:\n",
        "  produto = valor - (valor * 0.05)\n",
        "  print('O valor a ser pago pelo produto será de R${:.2f}'.format(produto))\n",
        "elif meio_pagamento == 3:\n",
        "  print('O valor a ser pago pelo produto será de R${:.2f}'.format(valor))\n",
        "elif meio_pagamento == 4:\n",
        "  parcelas = int(input('Em quantas vezes deseja parcelar a compra? '))\n",
        "  if parcelas >= 3:\n",
        "    produto = valor * 1.2\n",
        "    valor_parcelado = produto / parcelas\n",
        "    print('O valor a ser pago pelo produto será de R${:.2f}'.format(produto))\n",
        "    print('O valor de cada uma das {} parcelas da compra sera de R${:.2f}'.format(parcelas, valor_parcelado))\n",
        "  else:\n",
        "    print('O parcelamento mínimo nesta opção é 3x com juros. Refaça seu pagamento.')\n",
        "else:\n",
        "  print('Opção inválida, retome a operação.')"
      ],
      "metadata": {
        "id": "3-JykbT_TryF",
        "colab": {
          "base_uri": "https://localhost:8080/"
        },
        "outputId": "772c1915-8d6e-4ac9-f9c0-244ecd187484"
      },
      "execution_count": null,
      "outputs": [
        {
          "output_type": "stream",
          "name": "stdout",
          "text": [
            "Digite o valor do produto R$: 400\n",
            "Escolha a opção de pagamento:\n",
            "[1] - à vista dinheiro: 10% de desconto\n",
            "[2] - à vista no cartão: 5% de desconto\n",
            "[3] - 2x no cartão: preço normal\n",
            "[4] - 3x ou mais no cartão: 20% de juros\n",
            "\n",
            "Digite a opção desejada: 8\n",
            "Opção inválida, retome a operação.\n"
          ]
        }
      ]
    },
    {
      "cell_type": "markdown",
      "source": [
        "**45)** Crie um programa que faça o computador jogar Jokenpô com vc."
      ],
      "metadata": {
        "id": "QptqBuhGTse0"
      }
    },
    {
      "cell_type": "code",
      "source": [
        "from random import randint\n",
        "jogadas = ('Pedra', 'Papel', 'Tesoura')\n",
        "computador = randint(0,2)\n",
        "print('''Suas opções:\n",
        "[0] - Pedra\n",
        "[1] - Papel\n",
        "[2] - Tesoura''')\n",
        "jogador = int(input('Qual a sua opção? '))\n",
        "print('--'*15)\n",
        "print('O computador escolheu: {}'.format(jogadas[computador]))\n",
        "print('O jogador escolheu: {}'.format(jogadas[jogador]))\n",
        "print('--'*15)\n",
        "if computador == 0: #computador jogou Pedra\n",
        "  if jogador == 0:\n",
        "    print('Empate.')\n",
        "  elif jogador == 1:\n",
        "    print('Jogador Vence.')\n",
        "  elif jogador == 2:\n",
        "    print('Computador Vence.')\n",
        "  else: \n",
        "    print('Opção inválida.')\n",
        "\n",
        "elif computador == 1: #Computador jogou Papel.\n",
        "  if jogador == 0:\n",
        "    print('Computador Vence.')  \n",
        "  elif jogador == 1:\n",
        "    print('Empate.')  \n",
        "  elif jogador == 2:\n",
        "    print('Jogador Vence.')\n",
        "  else: \n",
        "    print('Opção inválida.')\n",
        "\n",
        "elif computador == 2: #Computador jogou Tesoura.\n",
        "  if jogador == 0:\n",
        "    print('Jogador Vence.')  \n",
        "  elif jogador == 1:\n",
        "    print('Computador Vence.')  \n",
        "  elif jogador == 2:\n",
        "    print('Empate.')  \n",
        "  else: \n",
        "    print('Opção inválida.')\n"
      ],
      "metadata": {
        "id": "b4r1Lq-wT2fn",
        "colab": {
          "base_uri": "https://localhost:8080/"
        },
        "outputId": "d308c4c5-0b39-4a93-fba5-e3832d2b3311"
      },
      "execution_count": null,
      "outputs": [
        {
          "output_type": "stream",
          "name": "stdout",
          "text": [
            "Suas opções:\n",
            "[0] - Pedra\n",
            "[1] - Papel\n",
            "[2] - Tesoura\n",
            "Qual a sua opção? 1\n",
            "------------------------------\n",
            "O computador escolheu: Pedra\n",
            "O jogador escolheu: Papel\n",
            "------------------------------\n",
            "Jogador Vence.\n"
          ]
        }
      ]
    }
  ]
}