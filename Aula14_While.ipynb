{
  "nbformat": 4,
  "nbformat_minor": 0,
  "metadata": {
    "colab": {
      "provenance": [],
      "include_colab_link": true
    },
    "kernelspec": {
      "name": "python3",
      "display_name": "Python 3"
    },
    "language_info": {
      "name": "python"
    }
  },
  "cells": [
    {
      "cell_type": "markdown",
      "metadata": {
        "id": "view-in-github",
        "colab_type": "text"
      },
      "source": [
        "<a href=\"https://colab.research.google.com/github/giovannaaleixo/python_curso_guanabara/blob/main/Aula14_While.ipynb\" target=\"_parent\"><img src=\"https://colab.research.google.com/assets/colab-badge.svg\" alt=\"Open In Colab\"/></a>"
      ]
    },
    {
      "cell_type": "markdown",
      "source": [
        "#Aula 14 - Estrutura de Repetição ***While***\n",
        "Repetição sem determinar um intervalo, diferente do loop FOR.\n",
        "\n",
        "Repita o processo ***enquanto (while)*** não chegar no objetivo final ou não saber o limite final da repetição.\n",
        "\n",
        "Se eu **sei** o limite final posso usar o FOR e While, se eu **não sei** o limite final uso apenas o While."
      ],
      "metadata": {
        "id": "kPahPE4S7AH_"
      }
    },
    {
      "cell_type": "markdown",
      "source": [
        "***Sintaxe:***\n",
        "\n",
        "```\n",
        "c=1 while c !=10:\n",
        "\n",
        "print(c)\n",
        "\n",
        "c+=1\n",
        "\n",
        "print(‘Acabou’)\n",
        "```\n",
        "\n"
      ],
      "metadata": {
        "id": "XUKNpC_v8mHb"
      }
    },
    {
      "cell_type": "code",
      "source": [
        "n = 1\n",
        "while n != 0:\n",
        "  n = int(input('Digite um numero: '))\n",
        "print('Fim')"
      ],
      "metadata": {
        "id": "w2yReLjzAayA"
      },
      "execution_count": null,
      "outputs": []
    },
    {
      "cell_type": "code",
      "source": [
        "r = 'S'\n",
        "while r == 'S':\n",
        "  n2 = int(input('Digite um valor: '))\n",
        "  r = str(input('Quer continuar [S/N]: ')).upper()\n",
        "print('Fim')"
      ],
      "metadata": {
        "id": "C_3nkfE3CGM1"
      },
      "execution_count": null,
      "outputs": []
    },
    {
      "cell_type": "code",
      "source": [
        "x = 1\n",
        "par = impar = 0\n",
        "while x != 0:\n",
        "  x = int(input('Digite um valor: '))\n",
        "  if x != 0:\n",
        "    if x % 2 == 0:\n",
        "      par += 1\n",
        "    else:\n",
        "      impar += 1\n",
        "print('Voce digitou {} numeros pares, e {} numeros impares'.format(par, impar))"
      ],
      "metadata": {
        "id": "-U7dZw1NDMxD"
      },
      "execution_count": null,
      "outputs": []
    },
    {
      "cell_type": "markdown",
      "source": [
        "##2. Exercícios"
      ],
      "metadata": {
        "id": "Yu5Bv9SzPdKT"
      }
    },
    {
      "cell_type": "markdown",
      "source": [
        "57) Faça um programa que leia o sexo de uma pessoa, mas só aceite os valores \"M\" ou \"F\". Caso esteja errado, peça a digitação novamente até ter um valor correto."
      ],
      "metadata": {
        "id": "Q_NlCiNcPhBD"
      }
    },
    {
      "cell_type": "code",
      "source": [
        "sexo = str(input('Digite o sexo [F/M]: ')).strip().upper()[0]\n",
        "while sexo not in 'MmFf':\n",
        "  sexo = str(input('Dados inválidos. Digite seu sexo novamente: '))\n",
        "print('Sexo {} registrado.'.format(sexo))\n"
      ],
      "metadata": {
        "id": "p8YmRZdPkXaT"
      },
      "execution_count": null,
      "outputs": []
    },
    {
      "cell_type": "markdown",
      "source": [
        "58) Melhore o desafio 28 onde o computador vai \"pensar\" em um numero entre 0 a 10. Só que agora o jogador vai tentar adivinhar até acertar, mostrando no final quantos palpites foram necessários para vencer."
      ],
      "metadata": {
        "id": "Qpo0lzExQzQX"
      }
    },
    {
      "cell_type": "code",
      "source": [
        "import random\n",
        "computador = random.randint(0,10)\n",
        "acerto = False\n",
        "tentativa = 0\n",
        "\n",
        "#usuario = int(input('Digite um numero inteiro: '))\n",
        "while not acerto:\n",
        "  usuario = int(input('Digite um numero inteiro: '))\n",
        "  tentativa += 1\n",
        "  if usuario == computador:\n",
        "    acerto = True\n",
        "    \n",
        "print('Vc acertou! Vc fez {} tentativas para acertar.'.format(tentativa))\n",
        "\n"
      ],
      "metadata": {
        "id": "Eryk94O7RQs8"
      },
      "execution_count": null,
      "outputs": []
    },
    {
      "cell_type": "markdown",
      "source": [
        "59) Crie um programa que leia dois valores e mostre um menu na tela:\n",
        "[1] soma\n",
        "[2] multiplicar\n",
        "[3] maior\n",
        "[4] novos numeros\n",
        "[5] sair do programa\n",
        "Seu programa deverá realizar a operação solicitada me cada caso"
      ],
      "metadata": {
        "id": "8JpU1etERSdP"
      }
    },
    {
      "cell_type": "code",
      "source": [
        "num1 = int(input('Digite o primeiro numero: '))\n",
        "num2 = int(input('Digite o segundo numero: '))\n",
        "escolha = 0\n",
        "\n",
        "print('='*8,'Menu de Operações','='*8)\n",
        "while escolha != 5:\n",
        "  print('''  [1] Soma\n",
        "  [2] Multiplicação\n",
        "  [3] Maior\n",
        "  [4] Novos numeros\n",
        "  [5] Sair''')\n",
        "  escolha = int(input('Digite a opção desejada: '))\n",
        "  print('-'*30)\n",
        "  if escolha == 1:\n",
        "    sum = num1 + num2\n",
        "    print('A soma dos dois numeros foi: {}'.format(sum))\n",
        "  elif escolha == 2:\n",
        "    mulltiplicacao = num1 * num2\n",
        "    print('A multiplicação entre os dois numeros foi: {}'.format(mulltiplicacao))\n",
        "  elif escolha == 3:\n",
        "    if num1 > num2:\n",
        "      maior = num1\n",
        "    else:\n",
        "      maior = num2\n",
        "    print('O maior numero entre {} e {} é: {}'.format(num1, num2, maior))\n",
        "  elif escolha == 4:\n",
        "    print('Insira novos numeros.')\n",
        "    num1 = int(input('Primeiro numero: '))\n",
        "    num2 = int(input('Segundo numero: '))\n",
        "  elif escolha == 5:\n",
        "    print('Saindo do Programa...')\n",
        "  else:\n",
        "    print('Opção inválida, tente novamente!')\n",
        "print('Fim do Programa')"
      ],
      "metadata": {
        "id": "n_UBNDBMR4Ot"
      },
      "execution_count": null,
      "outputs": []
    },
    {
      "cell_type": "markdown",
      "source": [
        "60) Faça um programa que leia um numero qualquer e mostre o seu fatorial."
      ],
      "metadata": {
        "id": "5UIUOs90R94K"
      }
    },
    {
      "cell_type": "code",
      "source": [
        "#from math import factorial\n",
        "n3 = int(input('Digite um numero para calcular o Fatorial: '))\n",
        "c = n3\n",
        "f = 1\n",
        "print('{}! = '.format(n3), end = '')\n",
        "while c > 0:\n",
        "  print('{}'.format(c), end = '')\n",
        "  print(' x ' if c > 1 else ' = ', end = '')\n",
        "  f *= c\n",
        "  c -= 1\n",
        "print('{}'.format(f))"
      ],
      "metadata": {
        "id": "cuL0JwM6SFyJ"
      },
      "execution_count": null,
      "outputs": []
    },
    {
      "cell_type": "markdown",
      "source": [
        "**61)** Refaça o desafio 51, lendo o primeiro termo e a razão de uma PA, mostrando os 10 primeiros termos da progressão utilizando while."
      ],
      "metadata": {
        "id": "axC3Rn3USGLO"
      }
    },
    {
      "cell_type": "code",
      "source": [
        "print('*'*5,'Progressão Aritmetica','*'*5)\n",
        "n1 = int(input('Primeiro termo: '))\n",
        "razao = int(input('Razão da PA: '))\n",
        "termo1 = n1\n",
        "x2 = 1\n",
        "\n",
        "while x2 <= 10:\n",
        "  print('{} -> '.format(termo1), end = '')\n",
        "  termo1 += razao\n",
        "  x2 += 1\n",
        "print('Fim da PA')"
      ],
      "metadata": {
        "id": "J19bPAtkSkyi"
      },
      "execution_count": null,
      "outputs": []
    },
    {
      "cell_type": "markdown",
      "source": [
        "**62)** Melhore o desafio 61, perguntando para o usuário se ele quer mostrar mais alguns termos. O programa encerra quando ele disser que quer mostrar 0 termos."
      ],
      "metadata": {
        "id": "LScZ7couSn_Y"
      }
    },
    {
      "cell_type": "code",
      "source": [
        "print('*'*5,'Progressão Aritmetica 2.0','*'*5)\n",
        "n2 = int(input('Primeiro termo: '))\n",
        "razao2 = int(input('Razão da PA: '))\n",
        "termo1_2 = n1\n",
        "x3 = 1\n",
        "\n",
        "while x3 <= 10:\n",
        "  print('{} -> '.format(termo1_2), end = '')\n",
        "  termo1_2 += razao\n",
        "  x3 += 1\n",
        "print('Fim da PA')"
      ],
      "metadata": {
        "id": "L4xyE2ZdTEAO"
      },
      "execution_count": null,
      "outputs": []
    },
    {
      "cell_type": "markdown",
      "source": [
        "**63)** Ecreva um programa que leia um numero n inteiro qualquer e mostre na tela os n primeiros elementos de uma sequencia de Fibonacci."
      ],
      "metadata": {
        "id": "2cLhgR0wTEa0"
      }
    },
    {
      "cell_type": "code",
      "source": [],
      "metadata": {
        "id": "syF7PK9CTdlf"
      },
      "execution_count": null,
      "outputs": []
    },
    {
      "cell_type": "markdown",
      "source": [
        "64) Crie um programa que leia varios numeros inteiros. O programa vai parar quando o usuário digitar o valor 999, que é a condição de parada. No final mostre quantos numeros foram digitados e qual foi a soma entre eles, (desconsiderando o flag)."
      ],
      "metadata": {
        "id": "MVnfFqNVTeFM"
      }
    },
    {
      "cell_type": "code",
      "source": [],
      "metadata": {
        "id": "9Ljh6CbgUJ5d"
      },
      "execution_count": null,
      "outputs": []
    },
    {
      "cell_type": "markdown",
      "source": [
        "65) Crie um programa que leia vários numeros inteiros. No final da execução, mostre a média entre todos os valores e qual foi o maior e menor valores lidos. O programa deve perguntar ao usuario se ele quer ou não continuar a digitar valores"
      ],
      "metadata": {
        "id": "gppLSBKsUYi3"
      }
    },
    {
      "cell_type": "code",
      "source": [],
      "metadata": {
        "id": "AQ5In0vwUzjF"
      },
      "execution_count": null,
      "outputs": []
    }
  ]
}