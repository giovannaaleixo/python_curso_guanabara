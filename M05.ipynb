{
  "nbformat": 4,
  "nbformat_minor": 0,
  "metadata": {
    "colab": {
      "provenance": [],
      "authorship_tag": "ABX9TyPT4f50RY3h2esPBsWWj5On",
      "include_colab_link": true
    },
    "kernelspec": {
      "name": "python3",
      "display_name": "Python 3"
    },
    "language_info": {
      "name": "python"
    }
  },
  "cells": [
    {
      "cell_type": "markdown",
      "metadata": {
        "id": "view-in-github",
        "colab_type": "text"
      },
      "source": [
        "<a href=\"https://colab.research.google.com/github/giovannaaleixo/python_curso_guanabara/blob/main/M05.ipynb\" target=\"_parent\"><img src=\"https://colab.research.google.com/assets/colab-badge.svg\" alt=\"Open In Colab\"/></a>"
      ]
    },
    {
      "cell_type": "markdown",
      "source": [
        "#**Módulo 5 - Condições (if, else)**\n",
        "Vamos utilizar estruturas condicionais simples e compostas."
      ],
      "metadata": {
        "id": "eI2kb0YsMojs"
      }
    },
    {
      "cell_type": "code",
      "source": [
        "#estrutura simples\n",
        "nome = str(input('Digite seu nome: '))\n",
        "if nome == 'Giovanna':\n",
        "  print('Que nome lindo você tem!')\n",
        "print('Bom dia, {}!'.format(nome))\n"
      ],
      "metadata": {
        "id": "HLAnZqdJM7Pp"
      },
      "execution_count": null,
      "outputs": []
    },
    {
      "cell_type": "code",
      "source": [
        "# estrutura composta\n",
        "n1 = float(input('Digite a primeira nota: '))\n",
        "n2 = float(input('Digite a segunda nota: '))\n",
        "media = (n1 + n2)/2\n",
        "print('Sua média foi de {:.2f}'.format(media))\n",
        "\n",
        "if media >= 6.0:\n",
        "  print('Sua média é boa! Parabéns!')\n",
        "else:\n",
        "  print('Sua média foi ruim! Estude mais!!!')"
      ],
      "metadata": {
        "id": "2B1U6LyJ5JYh"
      },
      "execution_count": null,
      "outputs": []
    },
    {
      "cell_type": "markdown",
      "source": [
        "28) Faça um programa que faça o computador pensar em um número inteiro entre 0 a 5, e peça para o usuário tentar descobrir qual foi o último número escolhido pelo computador. O programa deverá escrever na tela se o usuário perdeu ou venceu. "
      ],
      "metadata": {
        "id": "KdnnVZZT6xOr"
      }
    },
    {
      "cell_type": "code",
      "source": [
        "import random\n",
        "a = int(input('Digite um número inteiro de 0 a 5: '))\n",
        "b = random.randint(0,5)\n",
        "print(b)\n",
        "\n",
        "if a == b:\n",
        "  print('Você venceu! Número correto!')\n",
        "else:\n",
        "  print('Você errou! Tente novamente!')\n"
      ],
      "metadata": {
        "id": "DEzuhtBk7wS8",
        "colab": {
          "base_uri": "https://localhost:8080/"
        },
        "outputId": "9bc4146d-c295-4134-f2cc-a9c2046e0b7b"
      },
      "execution_count": null,
      "outputs": [
        {
          "output_type": "stream",
          "name": "stdout",
          "text": [
            "Digite um número inteiro de 0 a 5: 2\n",
            "3\n",
            "Você errou! Tente novamente!\n"
          ]
        }
      ]
    },
    {
      "cell_type": "markdown",
      "source": [
        "29) Escreva um programa que leia a velocidade do carro. Se ele ultrapassar 80 km/h mostre uma mensagem que ele foi multado. A multa vai custa R$ 7,00 por cada km acima do limite."
      ],
      "metadata": {
        "id": "BaqyXBOm7yQS"
      }
    },
    {
      "cell_type": "code",
      "source": [
        "velocidade = float(input('Digite a velocidade do carro: '))\n",
        "if velocidade > 80.0:\n",
        "  print('Você foi multado!')\n",
        "  print('Calculando sua multa...')\n",
        "  multa = (velocidade - 80)*7\n",
        "  print('Sua multa de excesso de velocidade foi de R$ {:.2f} !'.format(multa))\n",
        "else:\n",
        "  print('O motorista não foi multado.')\n"
      ],
      "metadata": {
        "id": "uta9kCAf8jPD",
        "colab": {
          "base_uri": "https://localhost:8080/"
        },
        "outputId": "952599d5-218d-4170-b1e0-c80b5d4d01af"
      },
      "execution_count": null,
      "outputs": [
        {
          "output_type": "stream",
          "name": "stdout",
          "text": [
            "Digite a velocidade do carro: 81\n",
            "Você foi multado!\n",
            "Calculando sua multa...\n",
            "Sua multa de excesso de velocidade foi de R$ 7.00 !\n"
          ]
        }
      ]
    },
    {
      "cell_type": "markdown",
      "source": [
        "30) Faça um programa que leia um número inteiro e mostre na tela se ele é par ou ímpar."
      ],
      "metadata": {
        "id": "OXRR_fYm8vWk"
      }
    },
    {
      "cell_type": "code",
      "source": [
        "x = int(input('Digite um número: '))\n",
        "if x % 2 == 0:\n",
        "  print('Seu número é Par!')\n",
        "else:\n",
        "  print('Seu número é Ímpar!')"
      ],
      "metadata": {
        "colab": {
          "base_uri": "https://localhost:8080/"
        },
        "id": "w2hN9DmT9AxG",
        "outputId": "b32e549a-7e55-4ec4-bddd-be108fb2a5b0"
      },
      "execution_count": null,
      "outputs": [
        {
          "output_type": "stream",
          "name": "stdout",
          "text": [
            "Digite um número: 20\n",
            "Seu número é Par!\n"
          ]
        }
      ]
    },
    {
      "cell_type": "markdown",
      "source": [
        "31) Desenvolva um programa que pergunte a distância de uma viagem em Km. Calcule o preço da passagem, cobrando 0,50 por km para viagens até 200 km. E 0,45 para viagens mais longas."
      ],
      "metadata": {
        "id": "OIu3NLas9IdP"
      }
    },
    {
      "cell_type": "code",
      "source": [
        "km = float(input('Digite a distância em km da viagem pretendida: '))\n",
        "if km <= 200:\n",
        "  custo = km * 0.5\n",
        "  print('O preço da passagem é: {:.2f} reais'.format(custo))\n",
        "else:\n",
        "  custo = km * 0.45\n",
        "  print('O preço da passagem é: {:.2f} reais'.format(custo))"
      ],
      "metadata": {
        "id": "FoBvOTAr9n_y",
        "colab": {
          "base_uri": "https://localhost:8080/"
        },
        "outputId": "d7623448-563a-4da9-85b4-d1f05fa93e64"
      },
      "execution_count": null,
      "outputs": [
        {
          "output_type": "stream",
          "name": "stdout",
          "text": [
            "Digite a distância em km da viagem pretendida: 500\n",
            "O preço da passagem é: 225.00 reais\n"
          ]
        }
      ]
    },
    {
      "cell_type": "markdown",
      "source": [
        "32) Faça um programa que leia um ano qualquer e mostre se ele é bissexto ou não."
      ],
      "metadata": {
        "id": "jN3Z7YdQ9u8B"
      }
    },
    {
      "cell_type": "code",
      "source": [
        "ano = int(input('Digite um ano: '))\n",
        "if ano % 4 == 0 and ano % 100 != 0 or ano % 400 == 0:\n",
        "  print('O ano {} é bissexto.'.format(ano))\n",
        "\n",
        "else:\n",
        "  print('O ano {} não é bissexto.'.format(ano))"
      ],
      "metadata": {
        "id": "KHqKAhRl9ukt",
        "colab": {
          "base_uri": "https://localhost:8080/"
        },
        "outputId": "bef5d3fc-c003-4d88-dfec-9d30a462ee78"
      },
      "execution_count": null,
      "outputs": [
        {
          "output_type": "stream",
          "name": "stdout",
          "text": [
            "Digite um ano: 2104\n",
            "O ano 2104 é bissexto.\n"
          ]
        }
      ]
    },
    {
      "cell_type": "markdown",
      "source": [
        "33) Faça um programa que leia três números e mostre qual é o maior e qual é o menor."
      ],
      "metadata": {
        "id": "itnPYAos-Chv"
      }
    },
    {
      "cell_type": "code",
      "source": [
        "n1 = int(input('Digite o primeiro número: '))\n",
        "n2 = int(input('Digite o segundo número: '))\n",
        "n3 = int(input('Digite o terceiro número: '))\n",
        "menor = n1 #testando qual é o menor\n",
        "if n2 < n1 and n2 < n3:\n",
        "  menor = n2\n",
        "if n3 < n1 and n3 < n2:\n",
        "    menor = n3\n",
        "\n",
        "print('O menor número foi: {}'.format(menor))\n",
        "\n",
        "maior = n1 #testando qual é o maior\n",
        "if n2 > n1 and n2 > n3:\n",
        "  maior = n2\n",
        "if n3 > n1 and n3 > n2:\n",
        "  maior = n3\n",
        "\n",
        "print('O maior número foi: {}'.format(maior))\n",
        "\n"
      ],
      "metadata": {
        "id": "-SL0Uhyk-2gF",
        "colab": {
          "base_uri": "https://localhost:8080/"
        },
        "outputId": "f3a3186f-de69-4214-99e8-e362f3633ee2"
      },
      "execution_count": null,
      "outputs": [
        {
          "output_type": "stream",
          "name": "stdout",
          "text": [
            "Digite o primeiro número: 95\n",
            "Digite o segundo número: 99\n",
            "Digite o terceiro número: 87\n",
            "O menor número foi: 87\n",
            "O maior número foi: 99\n"
          ]
        }
      ]
    },
    {
      "cell_type": "markdown",
      "source": [
        "34)Faça um programa que pergunte o salário de um funcionário e calcule o valor de seu aumento. Para salários superiores a r$ 1250,0 calcule um aumento de 10%. Para os inferiores ou iguais o aumento é de 15%."
      ],
      "metadata": {
        "id": "Mi2LtD7u-26o"
      }
    },
    {
      "cell_type": "code",
      "source": [
        "payment = float(input('Digite seu salário: '))\n",
        "\n",
        "if payment > 1250.0:\n",
        "  aumento = payment + (payment*0.1)\n",
        "  print('O seu aumento será de 10% e seu novo salário será: {:.2f} reais'.format(aumento))\n",
        "\n",
        "else:\n",
        "  aumento = payment + (payment *0.15)\n",
        "  print('O seu aumento será de 15% e seu novo salário será: {:.2f} reais'.format(aumento))\n"
      ],
      "metadata": {
        "id": "yxKpDqGH_rlV",
        "colab": {
          "base_uri": "https://localhost:8080/"
        },
        "outputId": "9f54a052-60c6-44c7-e20f-7fde84c602ef"
      },
      "execution_count": null,
      "outputs": [
        {
          "output_type": "stream",
          "name": "stdout",
          "text": [
            "Digite seu salário: 1000\n",
            "O seu aumento será de 15% e seu novo salário será: 1150.00 reais\n"
          ]
        }
      ]
    },
    {
      "cell_type": "markdown",
      "source": [
        "35) Desenvolva um programa que leia três comprimentos de retas e diga ao usuário se é possível ou não formar um triângulo."
      ],
      "metadata": {
        "id": "smSoH64K_r_8"
      }
    },
    {
      "cell_type": "code",
      "source": [
        "l1 = float(input('Digite a primeira medida: '))\n",
        "l2 = float(input('Digite a segunda medida: '))\n",
        "l3 = float(input('Digite a terceira medida: '))\n",
        "\n",
        "if l1 < l2 + l3 and l2 < l1 + l3 and l3 < l1 + l2:\n",
        "  print('Os seguimentos formam um triângulo!')\n",
        "else:\n",
        "  print('Os seguimentos NÃO formam um triângulo!') \n"
      ],
      "metadata": {
        "id": "tOUNvXm_AeTi",
        "colab": {
          "base_uri": "https://localhost:8080/"
        },
        "outputId": "434d7b72-a2b1-4e93-8c35-b27765975815"
      },
      "execution_count": null,
      "outputs": [
        {
          "output_type": "stream",
          "name": "stdout",
          "text": [
            "Digite a primeira medida: 8\n",
            "Digite a segunda medida: 8\n",
            "Digite a terceira medida: 3\n",
            "Os seguimentos formam um triângulo!\n"
          ]
        }
      ]
    }
  ]
}