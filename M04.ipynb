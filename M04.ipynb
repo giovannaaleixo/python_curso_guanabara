{
  "nbformat": 4,
  "nbformat_minor": 0,
  "metadata": {
    "colab": {
      "provenance": [],
      "authorship_tag": "ABX9TyMDXZe4upMPn57Qg6EK/LKP",
      "include_colab_link": true
    },
    "kernelspec": {
      "name": "python3",
      "display_name": "Python 3"
    },
    "language_info": {
      "name": "python"
    }
  },
  "cells": [
    {
      "cell_type": "markdown",
      "metadata": {
        "id": "view-in-github",
        "colab_type": "text"
      },
      "source": [
        "<a href=\"https://colab.research.google.com/github/giovannaaleixo/python_curso_guanabara/blob/main/M04.ipynb\" target=\"_parent\"><img src=\"https://colab.research.google.com/assets/colab-badge.svg\" alt=\"Open In Colab\"/></a>"
      ]
    },
    {
      "cell_type": "markdown",
      "source": [
        "# **Seção 4 - Utilizando módulos**"
      ],
      "metadata": {
        "id": "9OYivA9UrRAo"
      }
    },
    {
      "cell_type": "markdown",
      "source": [
        "**import** math = importa **toda** a biblioteca math\n",
        "\n",
        "***from*** math **import** sqrt = importa ***somente*** a função raiz quadrada da biblioteca math"
      ],
      "metadata": {
        "id": "xShvzW1osl2F"
      }
    },
    {
      "cell_type": "code",
      "source": [
        "import math\n",
        "num = int(input('Digite um numero: '))\n",
        "raiz = math.sqrt(num)\n",
        "print('A raiz quadrada do numero {} é: {}'.format(num, raiz))"
      ],
      "metadata": {
        "id": "3VAShZi5uo81"
      },
      "execution_count": null,
      "outputs": []
    },
    {
      "cell_type": "code",
      "source": [
        "import random\n",
        "n = random.randint(1,60)\n",
        "print(n)"
      ],
      "metadata": {
        "id": "B-UPMcZBwy2A"
      },
      "execution_count": null,
      "outputs": []
    },
    {
      "cell_type": "markdown",
      "source": [
        "16) Crie um programa que leia um numero real qualquer e mostre na tela a sua porção inteira."
      ],
      "metadata": {
        "id": "enaNIwk-ycNu"
      }
    },
    {
      "cell_type": "code",
      "source": [
        "import math\n",
        "x1 = float(input('Digite um numero: '))\n",
        "int_x1 = math.trunc(x1) #módulo math.trunc() retorna o numero antes da vírgula\n",
        "print('O numero digitado foi {} e sua parte inteira é: {}'.format(x1, int_x1))\n",
        "# o tipo int também retorna a parte inteira do numero e pode substituir o trunc"
      ],
      "metadata": {
        "id": "g9ldFBfayejK"
      },
      "execution_count": null,
      "outputs": []
    },
    {
      "cell_type": "markdown",
      "source": [
        "17) Faça um programa que leia o comprimento do cateto oposto e do cateto adjacente de um triangulo retângulo. Calcule e mostre o comprimento da hipotenusa."
      ],
      "metadata": {
        "id": "gLL1dXzvy741"
      }
    },
    {
      "cell_type": "code",
      "source": [
        "import math\n",
        "co = float(input('Comprimento do cateto oposto: '))\n",
        "ca = float(input('Comprimento do cateto adjacente: '))\n",
        "hip = math.hypot(co,ca) #módulo hipotenusa\n",
        "print('A hipotenusa é: {:.2f}'.format(hip))"
      ],
      "metadata": {
        "id": "_Mlz_ptZzBVD"
      },
      "execution_count": null,
      "outputs": []
    },
    {
      "cell_type": "markdown",
      "source": [
        "18) Leia um ângulo qualquer e mostre na tela o valor do seno, cosseno e tangente desse ângulo."
      ],
      "metadata": {
        "id": "NvwaRVHJzJKF"
      }
    },
    {
      "cell_type": "code",
      "source": [
        "ang = float(input('Valor do ângulo: ')) \n",
        "seno = math.sin(math.radians(ang))\n",
        "cosseno = math.cos(math.radians(ang))\n",
        "tang = math.tan(math.radians(ang))\n",
        "\n",
        "print('O seno do ângulo {} é {:.2f}'.format(ang, seno))\n",
        "print('O cosseno do ângulo {} é {:.2f}'.format(ang, cosseno))\n",
        "print('A tangente do ângulo {} é {:.2f}'.format(ang, tang))"
      ],
      "metadata": {
        "id": "VPfGMEpszOoh"
      },
      "execution_count": null,
      "outputs": []
    },
    {
      "cell_type": "markdown",
      "source": [
        "**19)** Um prof quer sortear um dos alunos para apagar o quadro. Faça um prog. que ajude ele, lendo o nome deles e escrevendo o nome do escolhido."
      ],
      "metadata": {
        "id": "wt3THUXtzpjj"
      }
    },
    {
      "cell_type": "code",
      "source": [
        "import random \n",
        "\n",
        "n1 = input('Digite o primeiro nome: ')\n",
        "n2 = input('Digite o segundo nome: ')\n",
        "n3 = input('Digite o terceiro nome: ')\n",
        "n4 = input('Digite o quarto nome: ')\n",
        "l=[n1,n2,n3,n4] #lista para armazenas os nomes\n",
        "escolhido = random.choice(l)\n",
        "print('\\nO aluno escolhido foi: {}!'.format(escolhido))"
      ],
      "metadata": {
        "id": "fTIF7u2kzvJQ"
      },
      "execution_count": null,
      "outputs": []
    },
    {
      "cell_type": "markdown",
      "source": [
        "**20)** O mesmo prof do desafio anterior quer sortear a ordem de apresentação de trabalhos dos alunos. Faça um prog. que leia o nome dos quatro alunos e mostre a ordem sorteada."
      ],
      "metadata": {
        "id": "-1hnXhU60Poy"
      }
    },
    {
      "cell_type": "code",
      "source": [
        "from random import shuffle\n",
        "a = str(input('Primeiro aluno: '))\n",
        "b = str(input('Segundo aluno: '))\n",
        "c = str(input('Terceiro aluno: '))\n",
        "d = str(input('Quarto aluno: '))\n",
        "lista2 = [a,b,c,d]\n",
        "\n",
        "shuffle(lista2) #embaralhar os elementos da lista\n",
        "\n",
        "print('\\nA ordem de apresentação é:')\n",
        "print(lista2)"
      ],
      "metadata": {
        "id": "Qx7f41Y00UR8"
      },
      "execution_count": null,
      "outputs": []
    },
    {
      "cell_type": "markdown",
      "source": [
        "21) Faça um prog. em Python que abra e reproduza o áudio de um arquivo MP3.\n",
        "pip install pygame\n",
        "import pygame\n",
        "pygame.init()\n",
        "pygame.mixer.music.load('ChuvaFloresta.mp3')\n",
        "pygame.mixer.music.play()\n",
        "pygame.event.wait()"
      ],
      "metadata": {
        "id": "oQP1N5QJ0zLQ"
      }
    },
    {
      "cell_type": "markdown",
      "source": [
        "# **Manipulando Textos**"
      ],
      "metadata": {
        "id": "1c7k29aV26CD"
      }
    },
    {
      "cell_type": "markdown",
      "source": [
        "As principais operações que vamos aprender são o Fatiamento de String, Análise com len(), count(), find(), transformações com replace(), upper(), lower(), capitalize(), title(), strip(), junção com join()."
      ],
      "metadata": {
        "id": "nyRGf54I3FRU"
      }
    },
    {
      "cell_type": "code",
      "source": [
        "frase = 'Curso em video Python'\n",
        "\n",
        "frase[9:14]"
      ],
      "metadata": {
        "id": "AB7kivft-N8L",
        "colab": {
          "base_uri": "https://localhost:8080/",
          "height": 35
        },
        "outputId": "aef36361-d058-41d8-a6fe-49517c601a5f"
      },
      "execution_count": null,
      "outputs": [
        {
          "output_type": "execute_result",
          "data": {
            "text/plain": [
              "'video'"
            ],
            "application/vnd.google.colaboratory.intrinsic+json": {
              "type": "string"
            }
          },
          "metadata": {},
          "execution_count": 20
        }
      ]
    },
    {
      "cell_type": "code",
      "source": [
        "frase[9:21:2]"
      ],
      "metadata": {
        "id": "0R_bRd48_dDA"
      },
      "execution_count": null,
      "outputs": []
    },
    {
      "cell_type": "code",
      "source": [
        "frase[:5] #começa no caractere 0 e vai até o caractere 5."
      ],
      "metadata": {
        "id": "AQ8pKio6_t2x"
      },
      "execution_count": null,
      "outputs": []
    },
    {
      "cell_type": "code",
      "source": [
        "frase[15:]  #começa no 15 e termina no último caractere."
      ],
      "metadata": {
        "id": "WmQ9k0CEAGu4"
      },
      "execution_count": null,
      "outputs": []
    },
    {
      "cell_type": "code",
      "source": [
        "frase[9::3]  #começa no 9 e termina no último caractere pulando de 3 em 3."
      ],
      "metadata": {
        "id": "kfOzFXvmAfeL"
      },
      "execution_count": null,
      "outputs": []
    },
    {
      "cell_type": "code",
      "source": [
        "len(frase) #função que mostra a quantidade de caracteres de uma string"
      ],
      "metadata": {
        "id": "UHxVTlbxCg0V"
      },
      "execution_count": null,
      "outputs": []
    },
    {
      "cell_type": "code",
      "source": [
        "frase.count('o')"
      ],
      "metadata": {
        "id": "tG0sUk7cDG8z"
      },
      "execution_count": null,
      "outputs": []
    },
    {
      "cell_type": "code",
      "source": [
        "frase.find('deo') #posição onde se inicia o 'deo'"
      ],
      "metadata": {
        "id": "zriKDn1cDJCt"
      },
      "execution_count": null,
      "outputs": []
    },
    {
      "cell_type": "code",
      "source": [
        "frase.find('java') #não encontrou java na string frase."
      ],
      "metadata": {
        "id": "2ie9KfI6Du5Z",
        "colab": {
          "base_uri": "https://localhost:8080/"
        },
        "outputId": "82e25b28-e437-4003-80c6-f002f00f2a38"
      },
      "execution_count": null,
      "outputs": [
        {
          "output_type": "execute_result",
          "data": {
            "text/plain": [
              "-1"
            ]
          },
          "metadata": {},
          "execution_count": 21
        }
      ]
    },
    {
      "cell_type": "code",
      "source": [
        "frase.replace('Python','Java') #substitui o primeiro argumento pelo segundo."
      ],
      "metadata": {
        "id": "Fljf2xzoEFI6"
      },
      "execution_count": null,
      "outputs": []
    },
    {
      "cell_type": "code",
      "source": [
        "'-'.join(frase)"
      ],
      "metadata": {
        "id": "1PfJRPMIGAyL",
        "colab": {
          "base_uri": "https://localhost:8080/",
          "height": 35
        },
        "outputId": "efd52198-a508-4404-8c6e-b2c880344c76"
      },
      "execution_count": null,
      "outputs": [
        {
          "output_type": "execute_result",
          "data": {
            "text/plain": [
              "'C-u-r-s-o- -e-m- -v-i-d-e-o- -P-y-t-h-o-n'"
            ],
            "application/vnd.google.colaboratory.intrinsic+json": {
              "type": "string"
            }
          },
          "metadata": {},
          "execution_count": 22
        }
      ]
    },
    {
      "cell_type": "code",
      "source": [
        "worldlist=frase.split() #função split coloca em lista a string\n",
        "print(worldlist)"
      ],
      "metadata": {
        "id": "yBx0WfYqYLPa"
      },
      "execution_count": null,
      "outputs": []
    },
    {
      "cell_type": "code",
      "source": [
        "print(worldlist [0][2]) # posição corresponde ao elemento um da lista e depois a posição deste caractere no elemento"
      ],
      "metadata": {
        "id": "vaq0al07ZEIW"
      },
      "execution_count": null,
      "outputs": []
    },
    {
      "cell_type": "markdown",
      "source": [
        "## **Exercícios de Manipulação de Textos**"
      ],
      "metadata": {
        "id": "ps3skLz4bHYw"
      }
    },
    {
      "cell_type": "markdown",
      "source": [
        "22) Crie um programa que leia o nome completo de uma pessoa e mostre: \n",
        "\n",
        "*   O nome com todas as letras maiúsculas. \n",
        "*   O nome com todas minúsculas.\n",
        "*   Quantas letras ao todo (sem considerar os espaços). \n",
        "*   Quantas letras tem o primeiro nome.\n",
        "\n",
        "\n",
        "\n"
      ],
      "metadata": {
        "id": "6U6E6kqTbtfj"
      }
    },
    {
      "cell_type": "code",
      "source": [
        "nome = str(input('Digite seu nome completo: ')).strip()\n",
        "#função strip elimina os espaços antes e depois\n",
        "\n",
        "print('seu nome em Maiscúlo é: {}'.format(nome.upper()))\n",
        "print('seu nome é: {}'.format(nome.lower()))\n",
        "print('seu nome tem {} letras.'.format(len(nome) - nome.count(' '))) #contar os caracteres total menos os espaços do meio\n",
        "separa = nome.split()\n",
        "print('seu primeiro nome é {} e tem {} letras'.format(separa[0], len(separa[0])))\n",
        "\n"
      ],
      "metadata": {
        "colab": {
          "base_uri": "https://localhost:8080/"
        },
        "id": "jNZDnrG793mG",
        "outputId": "8dbce96e-474a-4eb6-eca9-98f7ff8f180d"
      },
      "execution_count": null,
      "outputs": [
        {
          "output_type": "stream",
          "name": "stdout",
          "text": [
            "Digite seu nome completo: Matheus Henrique\n",
            "seu nome em Maiscúlo é: MATHEUS HENRIQUE\n",
            "seu nome é: matheus henrique\n",
            "seu nome tem 15 letras.\n",
            "seu primeiro nome é Matheus e tem 7 letras\n"
          ]
        }
      ]
    },
    {
      "cell_type": "markdown",
      "source": [
        "23) Faça um programa que leia um numero de 0 a 9999 e mostre na tela cada um dos digitos separados."
      ],
      "metadata": {
        "id": "zuT1GfdfchTR"
      }
    },
    {
      "cell_type": "code",
      "source": [
        "num = int(input('Digite um numero de 4 digitos: '))\n",
        "u = num // 1 % 10\n",
        "d = num // 10 % 10\n",
        "c = num // 100 % 10\n",
        "m = num // 1000 % 10\n",
        "\n",
        "print('Unidade: {}'.format(u))\n",
        "print('Dezena: {}'.format(d))\n",
        "print('Centena: {}'.format(c))\n",
        "print('Milhar: {}'.format(m))\n",
        "\n",
        "#modo matemático\n",
        "#x = str(num)\n",
        "#print('Unidade: {}'.format(x[3]))\n",
        "#print('Dezena: {}'.format(x[2]))\n",
        "#print('Centena: {}'.format(x[1]))\n",
        "#print('Milhar: {}'.format(x[0]))\n",
        "\n"
      ],
      "metadata": {
        "id": "R-uQe9u3KQNW",
        "colab": {
          "base_uri": "https://localhost:8080/"
        },
        "outputId": "1275102f-b5f6-4646-deb5-5ceba949b69d"
      },
      "execution_count": null,
      "outputs": [
        {
          "output_type": "stream",
          "name": "stdout",
          "text": [
            "Digite um numero de 4 digitos: 21\n",
            "Unidade: 1\n",
            "Dezena: 2\n",
            "Centena: 0\n",
            "Milhar: 0\n"
          ]
        }
      ]
    },
    {
      "cell_type": "markdown",
      "source": [
        "24) Crie um programa que leia o nome de uma cidade e diga se ela começa ou não com o nome \"SANTO\"."
      ],
      "metadata": {
        "id": "xax1ubjScqzL"
      }
    },
    {
      "cell_type": "code",
      "source": [
        "cidade = str(input('Digite o nome da cidade: ')).strip()\n",
        "print(cidade[:5].upper() == 'SANTO')\n"
      ],
      "metadata": {
        "id": "NbGaLGvYKUK4",
        "colab": {
          "base_uri": "https://localhost:8080/"
        },
        "outputId": "e90dc03b-1f34-4ac9-8fa5-6f3e81291fb1"
      },
      "execution_count": null,
      "outputs": [
        {
          "output_type": "stream",
          "name": "stdout",
          "text": [
            "Digite o nome da cidade: santo antonio\n",
            "True\n"
          ]
        }
      ]
    },
    {
      "cell_type": "markdown",
      "source": [
        "25) Crie um programa que leia o nome de uma pessoa e diga se ela tem \"SILVA\" no nome."
      ],
      "metadata": {
        "id": "Jqz7D0txdF_M"
      }
    },
    {
      "cell_type": "code",
      "source": [
        "sobrenome = str(input('Digite seu nome completo: ')).strip()\n",
        "print('Seu nome tem Silva? {}'.format('silva' in sobrenome.lower()))"
      ],
      "metadata": {
        "id": "KdksOfO-KXKx",
        "colab": {
          "base_uri": "https://localhost:8080/"
        },
        "outputId": "6b405710-3af5-4aae-a02b-cdc1916d0cbd"
      },
      "execution_count": null,
      "outputs": [
        {
          "output_type": "stream",
          "name": "stdout",
          "text": [
            "Digite seu nome completo: silva silva\n",
            "Seu nome tem Silva? True\n"
          ]
        }
      ]
    },
    {
      "cell_type": "markdown",
      "source": [
        "26) Faça um programa que leia uma frase pelo teclado e mostre: Quantas vezes aparece a letra ''A''. Em que posição ela aparece a primeira vez. Em que posição ela aparece a última vez."
      ],
      "metadata": {
        "id": "puk4MY5rdfRl"
      }
    },
    {
      "cell_type": "code",
      "source": [
        "teste = str(input('Digite uma frase: ')).lower().strip()\n",
        "print('A letra A aparece {} vezes na frase: '.format(teste.count('a')))\n",
        "print('A primeira letra A aparece na posição: {}'.format(teste.find('a')+1))\n",
        "print('A última letra A aparece na posição: {}'.format(teste.rfind('a')+1))"
      ],
      "metadata": {
        "id": "pP2pDUdwKaUf",
        "colab": {
          "base_uri": "https://localhost:8080/"
        },
        "outputId": "03ae3154-0b3a-4bb1-8419-3737f9f557c5"
      },
      "execution_count": null,
      "outputs": [
        {
          "output_type": "stream",
          "name": "stdout",
          "text": [
            "Digite uma frase: Arara Azulada\n",
            "A letra A aparece 6 vezes na frase: \n",
            "A primeira letra A aparece na posição: 1\n",
            "A última letra A aparece na posição: 13\n"
          ]
        }
      ]
    },
    {
      "cell_type": "markdown",
      "source": [
        "27) Faça um programa que leia o nome completo de uma pessoa, mostrando em seguida o primeiro e o último nome separadamente."
      ],
      "metadata": {
        "id": "tKSmlY8FdoTo"
      }
    },
    {
      "cell_type": "code",
      "source": [
        "a = str(input('Digite seu nome completo: ')).strip()\n",
        "b = a.split()\n",
        "print('Seu primeiro nome é: {}'.format(b[0]))\n",
        "print('Seu último nome é: {}'.format(b[len(b)-1]))"
      ],
      "metadata": {
        "id": "pMKFY4XWKeJq",
        "colab": {
          "base_uri": "https://localhost:8080/"
        },
        "outputId": "3b398e51-1042-4669-9235-3977143c4d18"
      },
      "execution_count": null,
      "outputs": [
        {
          "output_type": "stream",
          "name": "stdout",
          "text": [
            "Digite seu nome completo: giovanna moreia\n",
            "Seu primeiro nome é: giovanna\n",
            "Seu último nome é: moreia\n"
          ]
        }
      ]
    }
  ]
}