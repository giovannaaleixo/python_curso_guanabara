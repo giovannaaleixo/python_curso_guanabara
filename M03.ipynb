{
  "nbformat": 4,
  "nbformat_minor": 0,
  "metadata": {
    "colab": {
      "provenance": [],
      "authorship_tag": "ABX9TyPF7i2PJrcvu8vb4r3fJtgN",
      "include_colab_link": true
    },
    "kernelspec": {
      "name": "python3",
      "display_name": "Python 3"
    },
    "language_info": {
      "name": "python"
    }
  },
  "cells": [
    {
      "cell_type": "markdown",
      "metadata": {
        "id": "view-in-github",
        "colab_type": "text"
      },
      "source": [
        "<a href=\"https://colab.research.google.com/github/giovannaaleixo/python_curso_guanabara/blob/main/M03.ipynb\" target=\"_parent\"><img src=\"https://colab.research.google.com/assets/colab-badge.svg\" alt=\"Open In Colab\"/></a>"
      ]
    },
    {
      "cell_type": "markdown",
      "source": [
        "#**Módulo 03 - Retomada dos estudos a partir deste módulo**\n",
        "Aula 06 recomeçada em 24/06/22"
      ],
      "metadata": {
        "id": "Jl89-H8NKRjc"
      }
    },
    {
      "cell_type": "markdown",
      "source": [
        "##***Aula: Tipos Primitivos***"
      ],
      "metadata": {
        "id": "13aDHKDlMIs7"
      }
    },
    {
      "cell_type": "code",
      "source": [
        "n1=int(input('Digite um número: '))"
      ],
      "metadata": {
        "colab": {
          "base_uri": "https://localhost:8080/"
        },
        "id": "h-_UoYyHK9az",
        "outputId": "370d6bd3-e437-4c15-9ae2-70e5abc985e9"
      },
      "execution_count": null,
      "outputs": [
        {
          "name": "stdout",
          "output_type": "stream",
          "text": [
            "Digite um número: 36\n"
          ]
        }
      ]
    },
    {
      "cell_type": "code",
      "source": [
        "n2=int(input('Digite mais um número: '))"
      ],
      "metadata": {
        "colab": {
          "base_uri": "https://localhost:8080/"
        },
        "id": "ZM-RGieuLi5J",
        "outputId": "58e6ef12-6358-422c-b092-c11be37b4b1b"
      },
      "execution_count": null,
      "outputs": [
        {
          "name": "stdout",
          "output_type": "stream",
          "text": [
            "Digite mais um número: 8\n"
          ]
        }
      ]
    },
    {
      "cell_type": "code",
      "source": [
        "s=n1+n2"
      ],
      "metadata": {
        "id": "mIe9X9IuLqxF"
      },
      "execution_count": null,
      "outputs": []
    },
    {
      "cell_type": "code",
      "source": [
        "print('A soma de {} e {} vale {}'.format(n1, n2, s))"
      ],
      "metadata": {
        "colab": {
          "base_uri": "https://localhost:8080/"
        },
        "id": "hWZ2lpseLt8n",
        "outputId": "1ade6e8c-b05e-4c1e-fc1d-ded219c16b23"
      },
      "execution_count": null,
      "outputs": [
        {
          "output_type": "stream",
          "name": "stdout",
          "text": [
            "A soma de 36 e 8 vale 44\n"
          ]
        }
      ]
    },
    {
      "cell_type": "markdown",
      "source": [
        "4 - Faça um programa que leia algo pelo teclado e mostre seu tipo primitivo e todas as informações possíveis sobre ela"
      ],
      "metadata": {
        "id": "TJeZ1VrTS37g"
      }
    },
    {
      "cell_type": "code",
      "source": [
        "x=input('Digite algo: ')\n",
        "type(x)"
      ],
      "metadata": {
        "colab": {
          "base_uri": "https://localhost:8080/"
        },
        "id": "U5FMsaPfTNWz",
        "outputId": "e6605e2a-527c-4bad-a99e-825538f17db7"
      },
      "execution_count": null,
      "outputs": [
        {
          "name": "stdout",
          "output_type": "stream",
          "text": [
            "Digite algo: oii\n"
          ]
        },
        {
          "output_type": "execute_result",
          "data": {
            "text/plain": [
              "str"
            ]
          },
          "metadata": {},
          "execution_count": 38
        }
      ]
    },
    {
      "cell_type": "code",
      "source": [
        "print('Só tem espaços? ',x.isspace())\n",
        "print('É minusculo?', x.islower())\n",
        "print('É número? ', x.isnumeric())"
      ],
      "metadata": {
        "colab": {
          "base_uri": "https://localhost:8080/"
        },
        "id": "eRuLy8-LT7qL",
        "outputId": "adff78f8-4143-43a8-ed3b-7f3d9ab9efa8"
      },
      "execution_count": null,
      "outputs": [
        {
          "output_type": "stream",
          "name": "stdout",
          "text": [
            "Só tem espaços?  False\n",
            "É minusculo? True\n",
            "É número?  False\n"
          ]
        }
      ]
    },
    {
      "cell_type": "markdown",
      "source": [
        "## **EXERCÍCIOS DO MÓDULO**"
      ],
      "metadata": {
        "id": "dodkBKXNg9wM"
      }
    },
    {
      "cell_type": "markdown",
      "source": [
        "5) Faça um programa que leia um numero inteiro e mostre na tela o seu sucessor e antecessor."
      ],
      "metadata": {
        "id": "l6ijKxEhhFz2"
      }
    },
    {
      "cell_type": "code",
      "source": [
        "n=int(input('Digite um numero: '))\n",
        "ant=n-1\n",
        "suc=n+1\n",
        "\n",
        "print('O sucessor do numero {} é: {}'.format(n, suc))\n",
        "print('O Antecessor do numero {} é: {}'.format(n, ant))\n",
        "#ou\n",
        "print('\\nO Sucessor do numero {} é {}, e o Antecessor é {}'.format(n,(n+1),(n-1)))"
      ],
      "metadata": {
        "colab": {
          "base_uri": "https://localhost:8080/"
        },
        "id": "n8LacM1SlbXP",
        "outputId": "f6bc9aa3-13c7-4f7b-be09-24d6d3441c76"
      },
      "execution_count": null,
      "outputs": [
        {
          "output_type": "stream",
          "name": "stdout",
          "text": [
            "Digite um numero: 12\n",
            "O sucessor do numero 12 é: 13\n",
            "O Antecessor do numero 12 é: 11\n",
            "\n",
            "O Sucessor do numero 12 é 13, e o Antecessor é 11\n"
          ]
        }
      ]
    },
    {
      "cell_type": "markdown",
      "source": [
        "6) Crie um algoritmo que leia um numero e mostre o seu dobro, triplo e raiz quadrada."
      ],
      "metadata": {
        "id": "_yrMwfEGhKnz"
      }
    },
    {
      "cell_type": "code",
      "source": [
        "num1=int(input('\\n\\nDigite um numero: '))\n",
        "dobro=num1*2\n",
        "tri=num1*3\n",
        "raiz=num1**(1/2)\n",
        "\n",
        "print('O dobro é: {}\\nO triplo é: {}\\nA raiz quadrada é: {:.2f}'.format(dobro, tri, raiz))"
      ],
      "metadata": {
        "colab": {
          "base_uri": "https://localhost:8080/"
        },
        "id": "wyZ5GNUzl0GG",
        "outputId": "6784c0db-4b53-4e00-9410-cec9e90456e1"
      },
      "execution_count": null,
      "outputs": [
        {
          "output_type": "stream",
          "name": "stdout",
          "text": [
            "\n",
            "\n",
            "Digite um numero: 2\n",
            "O dobro é: 4\n",
            "O triplo é: 6\n",
            "A raiz quadrada é: 1.41\n"
          ]
        }
      ]
    },
    {
      "cell_type": "markdown",
      "source": [
        "7)Faça um programa que leia as duas notas de um aluno, calcule e mostre a média"
      ],
      "metadata": {
        "id": "GmZ2LlpIhMoq"
      }
    },
    {
      "cell_type": "code",
      "source": [
        "nota1=int(input('\\nDigite a primeira nota: '))\n",
        "nota2=int(input('Digite a segunda nota: '))\n",
        "media_final=(nota1+nota2)/2\n",
        "print('\\nA média final é: {:.2}'.format(media_final))"
      ],
      "metadata": {
        "colab": {
          "base_uri": "https://localhost:8080/"
        },
        "id": "AKeON9a9mC52",
        "outputId": "74a14645-ec63-49d1-bd21-f73132efa3e1"
      },
      "execution_count": null,
      "outputs": [
        {
          "output_type": "stream",
          "name": "stdout",
          "text": [
            "\n",
            "Digite a primeira nota: 7\n",
            "Digite a segunda nota: 4\n",
            "\n",
            "A média final é: 5.5\n"
          ]
        }
      ]
    },
    {
      "cell_type": "markdown",
      "source": [
        "8) Faça um programa que leia um valor em metros e o exiba em centimetros e milimetros."
      ],
      "metadata": {
        "id": "ZH9ZeKAOhO1A"
      }
    },
    {
      "cell_type": "code",
      "source": [
        "#1m == 100cm\n",
        "#1m == 1000mm\n",
        "\n",
        "metros=int(input('\\nDigite o valor em metros: '))\n",
        "cm=metros*100\n",
        "mm=metros*1000\n",
        "print('A converção de {}m em cm é: {}cm'.format(metros, cm))\n",
        "print('A converção de {}m em mm é: {}mm'.format(metros, mm))\n",
        "#Melhorar com a converção para km, dm...."
      ],
      "metadata": {
        "colab": {
          "base_uri": "https://localhost:8080/"
        },
        "id": "bMK28uYzmILB",
        "outputId": "23807113-4e31-4ff2-d739-a135d39bab6e"
      },
      "execution_count": null,
      "outputs": [
        {
          "output_type": "stream",
          "name": "stdout",
          "text": [
            "\n",
            "Digite o valor em metros: 1\n",
            "A converção de 1m em cm é: 100cm\n",
            "A converção de 1m em mm é: 1000mm\n"
          ]
        }
      ]
    },
    {
      "cell_type": "markdown",
      "source": [
        "9) Faça um programa que leia um numero inteiro qualquer e mostre na tela a sua **tabuada**\n"
      ],
      "metadata": {
        "id": "wJ9uhf9ThRok"
      }
    },
    {
      "cell_type": "code",
      "source": [
        "x=int(input('Digite um numero: '))\n",
        "print('='*15)\n",
        "print('{} x 1 = {}'.format(x,(x*1)))\n",
        "print('{} x 2 = {}'.format(x,(x*2)))\n",
        "print('{} x 3 = {}'.format(x,(x*3)))\n",
        "print('{} x 4 = {}'.format(x,(x*4)))\n",
        "print('{} x 5 = {}'.format(x,(x*5)))\n",
        "print('{} x 6 = {}'.format(x,(x*6)))\n",
        "print('{} x 7 = {}'.format(x,(x*7)))\n",
        "print('{} x 8 = {}'.format(x,(x*8)))\n",
        "print('{} x 9 = {}'.format(x,(x*9)))\n",
        "print('{} x 10 = {}'.format(x,(x*10)))\n",
        "print('='*15)"
      ],
      "metadata": {
        "colab": {
          "base_uri": "https://localhost:8080/"
        },
        "id": "U1u7vk21mVW6",
        "outputId": "d3edfc31-7a20-4eee-970c-5972dd990472"
      },
      "execution_count": null,
      "outputs": [
        {
          "output_type": "stream",
          "name": "stdout",
          "text": [
            "Digite um numero: 5\n",
            "===============\n",
            "5 x 1 = 5\n",
            "5 x 2 = 10\n",
            "5 x 3 = 15\n",
            "5 x 4 = 20\n",
            "5 x 5 = 25\n",
            "5 x 6 = 30\n",
            "5 x 7 = 35\n",
            "5 x 8 = 40\n",
            "5 x 9 = 45\n",
            "5 x 10 = 50\n",
            "===============\n"
          ]
        }
      ]
    },
    {
      "cell_type": "markdown",
      "source": [
        "10)Crie um programa que leia quanto dinheiro uma pessoa tem na carteira e mostre quantos dólares ela pode comprar US$ 1 = R$ 5,24"
      ],
      "metadata": {
        "id": "AIk2vAs1hXr8"
      }
    },
    {
      "cell_type": "code",
      "source": [
        "\"1$ == 5.24R$ em 27/06/2022\"\n",
        "dinheiro_real=float(input('Digite o valor em Reais: '))\n",
        "dolar=5.24\n",
        "dinheiro_dolar=dinheiro_real/dolar\n",
        "print('O valor em dólar é: {:.2f}'.format(dinheiro_dolar))"
      ],
      "metadata": {
        "colab": {
          "base_uri": "https://localhost:8080/"
        },
        "id": "TeqM4qHLmvVV",
        "outputId": "ac766b70-1af5-46e2-af8f-fa57027a6e6c"
      },
      "execution_count": null,
      "outputs": [
        {
          "output_type": "stream",
          "name": "stdout",
          "text": [
            "Digite o valor em Reais: 53\n",
            "O valor em dólar é: 10.11\n"
          ]
        }
      ]
    },
    {
      "cell_type": "markdown",
      "source": [
        "11)Faça um programa que leia a largura e a altura de uma parede em metros, calcule a sua área e a quantidade de tinta necessária para pintá-la, sabendo que cada litro de tinta, pinta uma área de 2m²."
      ],
      "metadata": {
        "id": "LGEmEotvhar8"
      }
    },
    {
      "cell_type": "code",
      "source": [
        "l=float(input('Digite o valor da largura em metros: '))\n",
        "h=float(input('Digite o valor da altura em metros: '))\n",
        "area=l*h\n",
        "litros=area/2\n",
        "print('\\nA quantidade de tinta para pintar uma área de {:.2f} metros são {:.2f} litros de tinta'.format(area,litros))"
      ],
      "metadata": {
        "colab": {
          "base_uri": "https://localhost:8080/"
        },
        "id": "H3J2HWXwnWgA",
        "outputId": "15748baf-afc7-4c1c-b412-78d6aaecf3ba"
      },
      "execution_count": null,
      "outputs": [
        {
          "output_type": "stream",
          "name": "stdout",
          "text": [
            "Digite o valor da largura em metros: 74\n",
            "Digite o valor da altura em metros: 3\n",
            "\n",
            "A quantidade de tinta para pintar uma área de 222.00 metros são 111.00 litros de tinta\n"
          ]
        }
      ]
    },
    {
      "cell_type": "markdown",
      "source": [
        "12) Faça um algoritmo que leia o preço de um produto e mostre seu novo preço com 5% de desconto."
      ],
      "metadata": {
        "id": "cig-bZ0Rhcyh"
      }
    },
    {
      "cell_type": "code",
      "source": [
        "preco=float(input('Digite o preço do produto: '))\n",
        "desconto=preco-(preco*5/100)\n",
        "\n",
        "print('O novo preço do produto com desconto de 5% é: {:.2f}'.format(desconto))"
      ],
      "metadata": {
        "colab": {
          "base_uri": "https://localhost:8080/"
        },
        "id": "kn3BmBwingB_",
        "outputId": "97b0a91d-5141-4371-882c-c707d3f6b908"
      },
      "execution_count": null,
      "outputs": [
        {
          "output_type": "stream",
          "name": "stdout",
          "text": [
            "Digite o preço do produto: 100\n",
            "O novo preço do produto com desconto de 5% é: 95.00\n"
          ]
        }
      ]
    },
    {
      "cell_type": "markdown",
      "source": [
        "13) Faça um algoritmo que leia o salário de um funcionário e mostre seu novo salário com 15% de aumento."
      ],
      "metadata": {
        "id": "l5KRAI6chee0"
      }
    },
    {
      "cell_type": "code",
      "source": [
        "salario=float(input('Digite seu salario R$ '))\n",
        "#aumento=salario*1.15\n",
        "aumento = salario + (salario*15/100)\n",
        "print('O novo salario é R$ {:.2f}'.format(aumento))"
      ],
      "metadata": {
        "colab": {
          "base_uri": "https://localhost:8080/"
        },
        "id": "rZsYXrCInnl9",
        "outputId": "cff7884e-1899-41b5-ff10-ab11e3c7fe86"
      },
      "execution_count": null,
      "outputs": [
        {
          "output_type": "stream",
          "name": "stdout",
          "text": [
            "Digite seu salario R$ 2000\n",
            "O novo salario é R$ 2300.00\n"
          ]
        }
      ]
    },
    {
      "cell_type": "markdown",
      "source": [
        "14) Escreva um programa que converta uma temperatura digitando em graus Celsius e converta para graus Fahrenheit."
      ],
      "metadata": {
        "id": "m7y9UNCEpftk"
      }
    },
    {
      "cell_type": "code",
      "source": [
        "temp_celsius=float(input('Digite a temperatura em Celsius: '))\n",
        "temp_f = (temp_celsius * 1.8) + 32\n",
        "print('A temperatura de {} °C em é: {} °F'.format(temp_celsius, temp_f))"
      ],
      "metadata": {
        "colab": {
          "base_uri": "https://localhost:8080/"
        },
        "id": "_ETzxE20plOo",
        "outputId": "cf0096b6-d6e1-4194-d22e-d34ebf153df7"
      },
      "execution_count": null,
      "outputs": [
        {
          "output_type": "stream",
          "name": "stdout",
          "text": [
            "Digite a temperatura em Celsius: 25\n",
            "A temperatura de 25.0 °C em é: 77.0 °F\n"
          ]
        }
      ]
    },
    {
      "cell_type": "markdown",
      "source": [
        "15) Escreva um programa que pergunte a quantidade de Km percorridos por um carro alugado e a quantidade de dias pelos quais ele foi alugado. \n",
        "Calcule o preço a pagar, sabendo que o carro custa R$  60 por dia e R$ 0,15 por Km rodado."
      ],
      "metadata": {
        "id": "MgEY3C2yqFN1"
      }
    },
    {
      "cell_type": "code",
      "source": [
        "km = float(input('Digite a quilometragem percorrida: '))\n",
        "dia = int(input('Digite quantos dias o carro ficou alugado: '))\n",
        "total_km = km * 0.15\n",
        "total_dia = dia * 60\n",
        "total = total_km + total_dia\n",
        "\n",
        "#total = (60*dia) + (0.15*km)\n",
        "print('\\nO total a ser pago pelo carro é: R${:.2f}'.format(total))"
      ],
      "metadata": {
        "colab": {
          "base_uri": "https://localhost:8080/"
        },
        "id": "VH_U-kweqPWW",
        "outputId": "a91c0566-c458-4404-889b-a34613b5d945"
      },
      "execution_count": null,
      "outputs": [
        {
          "output_type": "stream",
          "name": "stdout",
          "text": [
            "Digite a quilometragem percorrida: 1000\n",
            "Digite quantos dias o carro ficou alugado: 5\n",
            "\n",
            "O total a ser pago pelo carro é: R$450.00\n"
          ]
        }
      ]
    },
    {
      "cell_type": "markdown",
      "source": [
        "## **Exercícios de Desafio**"
      ],
      "metadata": {
        "id": "jmr5C44oose7"
      }
    },
    {
      "cell_type": "markdown",
      "source": [
        "Qual o preço do produto pagando a vista com 10% de desconto e qual o preço pagando parcelado com 8% de aumento??"
      ],
      "metadata": {
        "id": "uswiM-uVo9y_"
      }
    }
  ]
}